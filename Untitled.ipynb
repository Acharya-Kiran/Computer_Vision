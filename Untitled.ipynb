{
 "cells": [
  {
   "cell_type": "code",
   "execution_count": null,
   "metadata": {},
   "outputs": [],
   "source": [
    "import numpy as np\n",
    "import matplotlib.pyplot as plt"
   ]
  },
  {
   "cell_type": "code",
   "execution_count": null,
   "metadata": {},
   "outputs": [],
   "source": [
    "height,width = 50,50\n",
    "resolution = 0.2"
   ]
  },
  {
   "cell_type": "code",
   "execution_count": null,
   "metadata": {},
   "outputs": [],
   "source": [
    "local = np.zeros((int(height/resolution),int(width/resolution)),dtype=int)\n",
    "#local variable has a local occupancy grid"
   ]
  },
  {
   "cell_type": "code",
   "execution_count": null,
   "metadata": {},
   "outputs": [],
   "source": [
    "def find_points_within_polygon(left_bottom,left_top,right_top,right_bottom):\n",
    "    #left boundary\n",
    "    diff_left = abs(left_bottom[0]-left_top[0]) if(abs(left_bottom[0]-left_top[0])>abs(left_bottom[1]-left_top[1])) else abs(left_bottom[1]-left_top[1])\n",
    "    left_x = np.linspace(left_bottom[0],left_top[0],diff_left)\n",
    "    left_x = left_x.astype(int)\n",
    "    left_y = np.linspace(left_bottom[1],left_top[1],diff_left)\n",
    "    left_y = left_y.astype(int)\n",
    "    left_xy = np.concatenate((left_x,left_y),axis=1)\n",
    "    #right boundary\n",
    "    diff_right = abs(right_bottom[0]-right_top[0]) if(abs(right_bottom[0]-right_top[0])>abs(right_bottom[1]-right_top[1])) else abs(right_bottom[1]-right_top[1])\n",
    "    right_x = np.linspace(right_bottom[0],right_top[0],diff_right)\n",
    "    right_x = right_x.astype(int)\n",
    "    right_y = np.linspace(right_bottom[1],right_top[1],diff_right)\n",
    "    right_y = right_y.astype(int)\n",
    "    right_xy = np.concatenate((right_x,right_y),axis=1)\n",
    "    right_xy = np.flip(right_xy,0)\n",
    "    #top boundary\n",
    "    diff_top = abs(left_top[0]-right_top[0]) if(abs(left_top[0]-right_top[0])>abs(left_top[1]-right_top[1])) else abs(left_top[1]-right_top[1])\n",
    "    top_x = np.linspace(left_top[0],right_top[0],diff_top)\n",
    "    top_x = top_x.astype(int)\n",
    "    top_y = np.linspace(left_top[1],right_top[1],diff_top)\n",
    "    top_y = top_y.astype(int)\n",
    "    top_xy = np.concatenate((top_x,top_y),axis=1)\n",
    "    #bottom boundary\n",
    "    diff_bottom = abs(left_bottom[0]-right_bottom[0]) if(abs(left_bottom[0]-right_bottom[0])>abs(left_bottom[1]-right_bottom[1])) else abs(left_bottom[1]-right_bottom[1])\n",
    "    bottom_x = np.linspace(left_bottom[0],right_bottom[0],diff_bottom)\n",
    "    bottom_x = bottom_x.astype(int)\n",
    "    bottom_y = np.linspace(left_bottom[1],right_bottom[1],diff_bottom)\n",
    "    bottom_y = bottom_y.astype(int)\n",
    "    bottom_xy = np.concatenate((bottom_x,bottom_y),axis=1)\n",
    "    bottom_xy = np.flip(bottom_xy,0)\n",
    "    \n",
    "    #Finding points within boundary\n",
    "    test1 = np.concatenate((left_xy,top_xy,right_xy,bottom_xy),axis=0)\n",
    "    coords = test1.copy()\n",
    "    test2 = n.vstack((test1[1:], test1[:1]))\n",
    "    test  = test2-test1\n",
    "    m = test[:,1]/test[:,0]\n",
    "    c = test1[:,1]-m*test1[:,0]\n",
    "    map()\n",
    "    \n",
    "    \n",
    "    \n",
    "    return left_x,left_y,right_x,right_y,top_x,top_y,bottom_x,bottom_y\n",
    "    "
   ]
  },
  {
   "cell_type": "code",
   "execution_count": null,
   "metadata": {},
   "outputs": [],
   "source": [
    "left_bottom = [200,50]\n",
    "left_top = [150,200]\n",
    "right_top = [50,150]\n",
    "right_bottom = [100,0] \n",
    "#left_x,left_y,right_x,right_y,top_x,top_y,bottom_x,bottom_y = find_points_within_polygon(left_bottom,left_top,right_top,right_bottom)\n"
   ]
  },
  {
   "cell_type": "code",
   "execution_count": null,
   "metadata": {},
   "outputs": [],
   "source": [
    "boundary = []\n",
    "for x,y in zip(left_x,left_y):\n",
    "    boundary.append([x,y])\n",
    "for x,y in zip(top_x,top_y):\n",
    "    boundary.append([x,y])\n",
    "for x,y in zip(right_x,right_y):\n",
    "    boundary.append([x,y])\n",
    "for x,y in zip(bottom_x,bottom_y):\n",
    "    boundary.append([x,y])\n",
    "#print(boundary)\n",
    "b_arr = np.array(boundary)\n",
    "#print(b_arr)"
   ]
  },
  {
   "cell_type": "code",
   "execution_count": null,
   "metadata": {},
   "outputs": [],
   "source": [
    "from scipy.ndimage.morphology import binary_fill_holes as imfill"
   ]
  },
  {
   "cell_type": "code",
   "execution_count": null,
   "metadata": {},
   "outputs": [],
   "source": [
    "mask = np.zeros(local.shape,dtype=int)\n",
    "mask[b_arr[:,0], b_arr[:,1]] = 1\n",
    "out = local[imfill(mask)].sum()"
   ]
  },
  {
   "cell_type": "code",
   "execution_count": null,
   "metadata": {},
   "outputs": [],
   "source": [
    "fig, ax = plt.subplots()\n",
    "plt.plot(local)\n",
    "fig.tight_layout()\n",
    "#plt.plot(left_x,left_y)\n",
    "#plt.plot(right_x,right_y)\n",
    "#plt.plot(top_x,top_y)\n",
    "#plt.plot(bottom_x,bottom_y)\n",
    "plt.show()"
   ]
  },
  {
   "cell_type": "code",
   "execution_count": null,
   "metadata": {},
   "outputs": [],
   "source": [
    "###-------------------------------------------------------------------------------------------------\n"
   ]
  },
  {
   "cell_type": "code",
   "execution_count": 1,
   "metadata": {},
   "outputs": [],
   "source": [
    "import numpy as np\n",
    "import matplotlib.pyplot as plt\n",
    "\n",
    "height,width = 50,50\n",
    "resolution = 0.2\n",
    "\n",
    "local = np.ones((int(height/resolution),int(width/resolution)),dtype=int)"
   ]
  },
  {
   "cell_type": "code",
   "execution_count": 2,
   "metadata": {},
   "outputs": [
    {
     "data": {
      "text/plain": [
       "<matplotlib.image.AxesImage at 0x7f2ae1e4e1d0>"
      ]
     },
     "execution_count": 2,
     "metadata": {},
     "output_type": "execute_result"
    },
    {
     "data": {
      "image/png": "[encoded data removed]",
      "text/plain": [
       "<Figure size 432x288 with 1 Axes>"
      ]
     },
     "metadata": {
      "needs_background": "light"
     },
     "output_type": "display_data"
    }
   ],
   "source": [
    "#plt.plot(local)\n",
    "plt.imshow(local)"
   ]
  },
  {
   "cell_type": "code",
   "execution_count": 3,
   "metadata": {},
   "outputs": [],
   "source": [
    "left_bottom_box = [200,50]\n",
    "left_top_box = [150,200]\n",
    "right_top_box = [50,150]\n",
    "right_bottom_box = [100,0] \n",
    "\n",
    "mask = np.zeros(local.shape,dtype=bool)\n"
   ]
  },
  {
   "cell_type": "code",
   "execution_count": 4,
   "metadata": {},
   "outputs": [
    {
     "data": {
      "text/plain": [
       "<matplotlib.image.AxesImage at 0x7f2ae1de3c88>"
      ]
     },
     "execution_count": 4,
     "metadata": {},
     "output_type": "execute_result"
    },
    {
     "data": {
      "image/png": "[encoded data removed]",
      "text/plain": [
       "<Figure size 432x288 with 1 Axes>"
      ]
     },
     "metadata": {
      "needs_background": "light"
     },
     "output_type": "display_data"
    }
   ],
   "source": [
    "plt.imshow(mask)"
   ]
  },
  {
   "cell_type": "code",
   "execution_count": 5,
   "metadata": {},
   "outputs": [],
   "source": [
    "#---------The function finds the lines which includes the boundaries of the polygon \n",
    "#---------and creates a mask on their intersection.\n",
    "\n",
    "#---------The Polygon corners are passed in particular sequence\n",
    "#---------left : left_bottom -> left_top\n",
    "#---------top : left_top -> right_top\n",
    "#---------right : right_top -> right_bottom\n",
    "#---------bottom : right_bottom -> left_bottom\n",
    "\n",
    "def line_points_for_mask(boundary_start,boundary_end,flag): \n",
    "    #-------flag indicates whether the line found is for right,left-->1 or top,bottom-->0\n",
    "    m = (boundary_start[1]-boundary_end[1])/(boundary_start[0]-boundary_end[0]) #----slope\n",
    "    c = boundary_start[1] - m*boundary_start[0]                                 #----intercept\n",
    "    if flag==1: #left,right boundary\n",
    "        #when y=0\n",
    "        [start_x,start_y] = [int(-c/m),0]\n",
    "        #when y=250\n",
    "        [end_x,end_y] = [int((249-c)/m),249]\n",
    "        points_x,points_y = np.linspace(start_x,end_x,250),np.linspace(start_y,end_y,250)\n",
    "        points_x = points_x.astype(int)\n",
    "        #print(points_x)\n",
    "        points_y = points_y.astype(int)\n",
    "        #print(points_y)\n",
    "        #points = np.concatenate((points_x,points_y),axis=0)\n",
    "        #print(points)\n",
    "        \n",
    "    else: #top,bottom boundary\n",
    "        #when x=0\n",
    "        [start_x,start_y] = [0,int(c)]\n",
    "        #when x=250\n",
    "        [end_x,end_y] = [249,int(249*m+c)]\n",
    "        points_x,points_y = np.linspace(start_x,end_x,250),np.linspace(start_y,end_y,250)\n",
    "        points_x = points_x.astype(int)\n",
    "        #print(points_x)\n",
    "        points_y = points_y.astype(int)\n",
    "        #print(points_y)\n",
    "        #points = np.concatenate((points_x,points_y),axis=1)\n",
    "        #points = np.concatenate((np.linspace(start_x,end_x,250).astype(int),np.linspace(start_y,end_y,250).astype(int)),axis=1)\n",
    "    return points_x,points_y\n",
    "        "
   ]
  },
  {
   "cell_type": "code",
   "execution_count": 27,
   "metadata": {},
   "outputs": [],
   "source": [
    "#-----function that lays lines on the mask and updates the mask.\n",
    "def mask_update(points_x,points_y,flag): \n",
    "    #---flag values are either of [l,r,t,b] indicating points are for left, right, top or bottom boundary respectively.\n",
    "    if flag == 'r': #---the red boundary starts from top and ends at bottom\n",
    "        for x,y in zip(points_x,points_y):\n",
    "            mask[x,:y]=1\n",
    "    elif flag == 'l':\n",
    "        for x,y in zip(points_x,points_y):\n",
    "            mask[x,y:]=1\n",
    "    elif flag == 't':\n",
    "        for x,y in zip(points_x,points_y):\n",
    "            mask[x,y:]=1\n",
    "    elif flag == 'b':\n",
    "        for x,y in zip(points_x,points_y):\n",
    "            mask[x,y:]=1"
   ]
  },
  {
   "cell_type": "code",
   "execution_count": 28,
   "metadata": {},
   "outputs": [],
   "source": [
    "lx,ly= line_points_for_mask(left_bottom_box,left_top_box,1)\n",
    "mask_update(lx,ly,'l')\n",
    "\n",
    "rx,ry = line_points_for_mask(right_top_box,right_bottom_box,1)\n",
    "#mask_update(rx,ry,'r')\n",
    "\n",
    "tx,ty = line_points_for_mask(left_top_box,right_top_box,0)\n",
    "#mask_update(tx,ty,'t')\n",
    "\n",
    "bx,by = line_points_for_mask(right_bottom_box,left_bottom_box,0)\n",
    "#mask_update(bx,by,'t')"
   ]
  },
  {
   "cell_type": "code",
   "execution_count": 29,
   "metadata": {},
   "outputs": [
    {
     "data": {
      "text/plain": [
       "<matplotlib.image.AxesImage at 0x7f2ae1ac5a90>"
      ]
     },
     "execution_count": 29,
     "metadata": {},
     "output_type": "execute_result"
    },
    {
     "data": {
      "image/png": "[encoded data removed]",
      "text/plain": [
       "<Figure size 432x288 with 1 Axes>"
      ]
     },
     "metadata": {
      "needs_background": "light"
     },
     "output_type": "display_data"
    }
   ],
   "source": [
    "plt.plot(lx,ly)\n",
    "#plt.plot(rx,ry)\n",
    "#plt.plot(tx,ty)\n",
    "#plt.plot(tx,ty)\n",
    "#plt.plot(bx,by)\n",
    "plt.imshow(mask)"
   ]
  },
  {
   "cell_type": "code",
   "execution_count": null,
   "metadata": {},
   "outputs": [],
   "source": [
    "out = local\n",
    "\n"
   ]
  },
  {
   "cell_type": "code",
   "execution_count": null,
   "metadata": {},
   "outputs": [],
   "source": []
  }
 ],
 "metadata": {
  "kernelspec": {
   "display_name": "Python 3",
   "language": "python",
   "name": "python3"
  },
  "language_info": {
   "codemirror_mode": {
    "name": "ipython",
    "version": 3
   },
   "file_extension": ".py",
   "mimetype": "text/x-python",
   "name": "python",
   "nbconvert_exporter": "python",
   "pygments_lexer": "ipython3",
   "version": "3.7.3"
  }
 },
 "nbformat": 4,
 "nbformat_minor": 2
}
